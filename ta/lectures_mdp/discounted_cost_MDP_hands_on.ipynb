{
 "cells": [
  {
   "cell_type": "code",
   "execution_count": 1,
   "id": "f5f4a4d7",
   "metadata": {},
   "outputs": [],
   "source": [
    "import numpy as np\n",
    "import matplotlib.pyplot as plt"
   ]
  },
  {
   "cell_type": "code",
   "execution_count": 28,
   "id": "217fe718",
   "metadata": {},
   "outputs": [],
   "source": [
    "class MDP():\n",
    "    def __init__(self, n_s, n_a, alpha):\n",
    "        self.n_a = n_a\n",
    "        self.n_s = n_s\n",
    "        self.p = self.trasition_prob_matrix()\n",
    "        self.r = self.reward_distribution(0,1)\n",
    "        self.state_space = np.arange(n_s)\n",
    "        self.action_space = np.arange(n_a)\n",
    "        self.state = None\n",
    "        self.alpha = alpha\n",
    "       \n",
    "    def trasition_prob_matrix(self):\n",
    "        k = 4\n",
    "        pts = np.random.uniform(1,1000,(self.n_s,self.n_a,k))\n",
    "        tpm = np.zeros((self.n_s,self.n_a,self.n_s))\n",
    "        t = np.arange(0,1,1/self.n_s)\n",
    "        for s in range(self.n_s):\n",
    "            for a in range(self.n_a):\n",
    "                tpm[s,a] = np.array([sum([pts[s,a,pt]*np.exp(-(k*x - (pt+0.5))**2)\n",
    "                                           for pt in range(k)]) for x in t])\n",
    "                tpm[s,a] /= sum(tpm[s,a])\n",
    "                tpm[s,a] = np.clip(tpm[s,a], 0.001, 1)\n",
    "                tpm[s,a] /= sum(tpm[s,a])\n",
    "        return tpm\n",
    "    \n",
    "    def reward_distribution(self, r_min, r_max):\n",
    "        return np.random.uniform(r_min, r_max, size=(self.n_s, self.n_a))\n",
    "   \n",
    "    def reset(self):\n",
    "        self.state = np.random.randint(self.n_s)\n",
    "        return self.state\n",
    "        \n",
    "    def step(self, action):\n",
    "        s = self.state\n",
    "        self.state = np.random.choice(self.state_space,p=self.p[s,action])\n",
    "        self.reward = self.r[s]#, self.state]\n",
    "        return self.state, self.reward\n",
    "    \n",
    "    def sample_action(self):\n",
    "        return np.random.randint(n_a)"
   ]
  },
  {
   "cell_type": "code",
   "execution_count": 29,
   "id": "ee502460",
   "metadata": {},
   "outputs": [],
   "source": [
    "alpha = 0.95\n",
    "n_s = 10\n",
    "n_a = 8\n",
    "M = MDP(n_s, n_a, alpha)"
   ]
  },
  {
   "cell_type": "code",
   "execution_count": 31,
   "id": "515232cf",
   "metadata": {},
   "outputs": [],
   "source": [
    "def value_iteration(MDP):\n",
    "    policy = np.zeros((MDP.n_s)).astype(np.int32)\n",
    "    V = np.zeros(MDP.n_s)\n",
    "    k = 0\n",
    "    while True:\n",
    "        V_old = V.copy()\n",
    "        for s in range(MDP.n_s):\n",
    "            Q = {}\n",
    "            for a in range(n_a):\n",
    "                Q[a] = MDP.r[s,a] + MDP.alpha*sum(MDP.p[s,a,s_nxt]*V_old[s_nxt] for s_nxt in range(MDP.n_s))\n",
    "            V[s] = max(Q.values())\n",
    "            policy[s] = max(Q, key=Q.get)\n",
    "        if all(abs(V.reshape(-1) - V_old.reshape(-1)) < 1e-6):\n",
    "            break\n",
    "    return policy, V"
   ]
  },
  {
   "cell_type": "code",
   "execution_count": 32,
   "id": "d47a5d73",
   "metadata": {},
   "outputs": [],
   "source": [
    "policy, value = value_iteration(M)"
   ]
  },
  {
   "cell_type": "code",
   "execution_count": 33,
   "id": "00532824",
   "metadata": {},
   "outputs": [
    {
     "name": "stdout",
     "output_type": "stream",
     "text": [
      "[4 2 6 7 3 6 2 7 3 1] [17.06173218 17.22459486 17.35509404 17.41379582 17.41108894 17.34941335\n",
      " 17.09016537 17.30173692 17.38143396 17.11773053]\n"
     ]
    }
   ],
   "source": [
    "print(policy, value)"
   ]
  },
  {
   "cell_type": "code",
   "execution_count": 34,
   "id": "1e984fdb",
   "metadata": {},
   "outputs": [],
   "source": [
    "def policy_evaluation_iterative(MDP, policy):\n",
    "    V = np.zeros(n_s)\n",
    "    k = 0\n",
    "    while True:\n",
    "        V_old = V.copy()\n",
    "        for s in range(n_s):\n",
    "            V[s] = MDP.r[s,policy[s]] + MDP.alpha*sum(MDP.p[s,policy[s],s_nxt]*V_old[s_nxt] for s_nxt in range(MDP.n_s))\n",
    "        if all(abs(V.reshape(-1) - V_old.reshape(-1)) < 1e-6):\n",
    "            break\n",
    "    return V"
   ]
  },
  {
   "cell_type": "code",
   "execution_count": 36,
   "id": "2744b1e8",
   "metadata": {},
   "outputs": [],
   "source": [
    "value_1 = policy_evaluation_iterative(M, policy)"
   ]
  },
  {
   "cell_type": "code",
   "execution_count": 37,
   "id": "9d772299",
   "metadata": {},
   "outputs": [
    {
     "name": "stdout",
     "output_type": "stream",
     "text": [
      "[17.06173218 17.22459486 17.35509404 17.41379582 17.41108894 17.34941335\n",
      " 17.09016537 17.30173692 17.38143396 17.11773053]\n"
     ]
    }
   ],
   "source": [
    "print(value_1)"
   ]
  },
  {
   "cell_type": "code",
   "execution_count": 42,
   "id": "585a997d",
   "metadata": {},
   "outputs": [],
   "source": [
    "def policy_evaluation_matrix(MDP, policy):\n",
    "    P_pol = np.zeros((MDP.n_s,MDP.n_s))\n",
    "    reward = np.zeros(MDP.n_s)\n",
    "    for s in range(MDP.n_s):\n",
    "        P_pol[s] = MDP.p[s,policy[s]]\n",
    "        reward[s] = MDP.r[s,policy[s]]\n",
    "    V = np.matmul(np.linalg.inv(np.eye(MDP.n_s) - MDP.alpha*P_pol), reward)\n",
    "    return V"
   ]
  },
  {
   "cell_type": "code",
   "execution_count": 43,
   "id": "a9ade39c",
   "metadata": {},
   "outputs": [],
   "source": [
    "value_2 = policy_evaluation_matrix(M, policy)"
   ]
  },
  {
   "cell_type": "code",
   "execution_count": 44,
   "id": "65c8cca5",
   "metadata": {},
   "outputs": [
    {
     "name": "stdout",
     "output_type": "stream",
     "text": [
      "[17.0617507  17.22461338 17.35511256 17.41381434 17.41110746 17.34943187\n",
      " 17.09018389 17.30175544 17.38145248 17.11774904]\n"
     ]
    }
   ],
   "source": [
    "print(value_2)"
   ]
  },
  {
   "cell_type": "code",
   "execution_count": null,
   "id": "32b6decb",
   "metadata": {},
   "outputs": [],
   "source": [
    "def policy_iteration(MDP):\n",
    "    pol = np.random.randint(MDP.n_a, size=MDP.n_s)\n",
    "    V = policy_evaluation_matrix(MDP, pol)\n",
    "    while True:\n",
    "        V_old = V.copy()\n",
    "        print(V)\n",
    "        print(policy)\n",
    "        for s in range(MDP.n_s):\n",
    "            Q = {}\n",
    "            for a in range(MDP.n_a):\n",
    "                Q[a] = MDP.r[s,a] + MDP.alpha*sum(MDP.p[s,a,s_nxt]*V[s_nxt] for s_nxt in range(MDP.n_s))\n",
    "            pol[s] = max(Q, key=Q.get)\n",
    "        if all(abs(V.reshape(-1) - V_old.reshape(-1)) == 0):\n",
    "            break\n",
    "    return policy, V"
   ]
  },
  {
   "cell_type": "code",
   "execution_count": null,
   "id": "c6528148",
   "metadata": {},
   "outputs": [],
   "source": [
    "policy, value = policy_iteration(M)"
   ]
  },
  {
   "cell_type": "code",
   "execution_count": null,
   "id": "8f206311",
   "metadata": {},
   "outputs": [],
   "source": [
    "print(policy, value)"
   ]
  }
 ],
 "metadata": {
  "kernelspec": {
   "display_name": "Python 3 (ipykernel)",
   "language": "python",
   "name": "python3"
  },
  "language_info": {
   "codemirror_mode": {
    "name": "ipython",
    "version": 3
   },
   "file_extension": ".py",
   "mimetype": "text/x-python",
   "name": "python",
   "nbconvert_exporter": "python",
   "pygments_lexer": "ipython3",
   "version": "3.9.7"
  }
 },
 "nbformat": 4,
 "nbformat_minor": 5
}
