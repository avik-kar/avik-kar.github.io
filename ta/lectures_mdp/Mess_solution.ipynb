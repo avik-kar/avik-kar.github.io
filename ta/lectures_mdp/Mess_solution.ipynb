{
 "cells": [
  {
   "cell_type": "code",
   "execution_count": 1,
   "id": "ee92947f",
   "metadata": {},
   "outputs": [],
   "source": [
    "import numpy as np"
   ]
  },
  {
   "cell_type": "code",
   "execution_count": 2,
   "id": "f5fe9fcd",
   "metadata": {},
   "outputs": [],
   "source": [
    "class Mess:\n",
    "    def __init__(self):\n",
    "        self.demand_values = [100, 200, 300, 400, 500]\n",
    "        self.demand_probs = [0.15, 0.05, 0.3, 0.25, 0.25]\n",
    "        self.capacity = self.demand_values[-1]\n",
    "        self.days = ['Monday', 'Tuesday', 'Wednesday',\n",
    "                     'Thursday', 'Friday', 'Weekend']\n",
    "        self.cost_price = 10\n",
    "        self.selling_price = 12\n",
    "        self.action_space = [0, 100, 200, 300, 400, 500]\n",
    "        self.state_space = [('Monday', 0)] + [(d, i)\n",
    "                                              for d in self.days[1:] for i in [0, 100, 200, 300, 400]]\n",
    "\n",
    "    def get_next_state_reward(self, state, action, demand):\n",
    "        day, inventory = state\n",
    "        result = {}\n",
    "        result['next_day'] = self.days[self.days.index(day) + 1]\n",
    "        result['starting_inventory'] = min(self.capacity, inventory + action)\n",
    "        result['cost'] = self.cost_price * action\n",
    "        result['sales'] = min(result['starting_inventory'],  demand)\n",
    "        result['revenue'] = self.selling_price * result['sales']\n",
    "        result['next_inventory'] = result['starting_inventory'] - result['sales']\n",
    "        result['reward'] = result['revenue'] - result['cost']\n",
    "        return result\n",
    "\n",
    "    def get_transition_prob(self, state, action):\n",
    "        next_s_r_prob = {}\n",
    "        for ix, demand in enumerate(self.demand_values):\n",
    "            result = self.get_next_state_reward(state, action, demand)\n",
    "            next_s = (result['next_day'], result['next_inventory'])\n",
    "            reward = result['reward']\n",
    "            prob = self.demand_probs[ix]\n",
    "            if (next_s, reward) not in next_s_r_prob:\n",
    "                next_s_r_prob[next_s, reward] = prob\n",
    "            else:\n",
    "                next_s_r_prob[next_s, reward] += prob\n",
    "        return next_s_r_prob\n",
    "\n",
    "    def is_terminal(self, state):\n",
    "        day, inventory = state\n",
    "        if day == \"Weekend\":\n",
    "            return True\n",
    "        else:\n",
    "            return False"
   ]
  },
  {
   "cell_type": "code",
   "execution_count": 3,
   "id": "a287aa6c",
   "metadata": {},
   "outputs": [],
   "source": [
    "class MessSolution:\n",
    "\n",
    "    def example_policy(self, states):\n",
    "        policy = {}\n",
    "        for s in states:\n",
    "            day, inventory = s\n",
    "            prob_a = {}\n",
    "            if inventory >= 200:\n",
    "                prob_a[0] = 1\n",
    "            else:\n",
    "                prob_a[100 - inventory] = 0.4\n",
    "                prob_a[300 - inventory] = 0.6\n",
    "            policy[s] = prob_a\n",
    "        return policy\n",
    "\n",
    "    def iterative_policy_evaluation(self, env, policy, max_iter=1000, v=None, eps=0.01, gamma=1):\n",
    "        # Write your code here\n",
    "        return v\n",
    "\n",
    "    def value_iteration(self, env, max_iter=1000, eps=0.01, gamma=1):\n",
    "        # Write your code here\n",
    "        return v"
   ]
  },
  {
   "cell_type": "code",
   "execution_count": 4,
   "id": "f500e8d5",
   "metadata": {},
   "outputs": [
    {
     "ename": "NameError",
     "evalue": "name 'v' is not defined",
     "output_type": "error",
     "traceback": [
      "\u001b[1;31m---------------------------------------------------------------------------\u001b[0m",
      "\u001b[1;31mNameError\u001b[0m                                 Traceback (most recent call last)",
      "\u001b[1;32m~\\AppData\\Local\\Temp/ipykernel_23664/133161811.py\u001b[0m in \u001b[0;36m<module>\u001b[1;34m\u001b[0m\n\u001b[0;32m      2\u001b[0m \u001b[0mmess\u001b[0m \u001b[1;33m=\u001b[0m \u001b[0mMess\u001b[0m\u001b[1;33m(\u001b[0m\u001b[1;33m)\u001b[0m\u001b[1;33m\u001b[0m\u001b[1;33m\u001b[0m\u001b[0m\n\u001b[0;32m      3\u001b[0m \u001b[0msolution\u001b[0m \u001b[1;33m=\u001b[0m \u001b[0mMessSolution\u001b[0m\u001b[1;33m(\u001b[0m\u001b[1;33m)\u001b[0m\u001b[1;33m\u001b[0m\u001b[1;33m\u001b[0m\u001b[0m\n\u001b[1;32m----> 4\u001b[1;33m \u001b[0mv\u001b[0m \u001b[1;33m=\u001b[0m \u001b[0msolution\u001b[0m\u001b[1;33m.\u001b[0m\u001b[0mvalue_iteration\u001b[0m\u001b[1;33m(\u001b[0m\u001b[0mmess\u001b[0m\u001b[1;33m)\u001b[0m\u001b[1;33m\u001b[0m\u001b[1;33m\u001b[0m\u001b[0m\n\u001b[0m\u001b[0;32m      5\u001b[0m \u001b[1;32massert\u001b[0m\u001b[1;33m(\u001b[0m\u001b[0mint\u001b[0m\u001b[1;33m(\u001b[0m\u001b[0mv\u001b[0m\u001b[1;33m[\u001b[0m\u001b[1;33m(\u001b[0m\u001b[1;34m'Monday'\u001b[0m\u001b[1;33m,\u001b[0m \u001b[1;36m0\u001b[0m\u001b[1;33m)\u001b[0m\u001b[1;33m]\u001b[0m\u001b[1;33m)\u001b[0m \u001b[1;33m==\u001b[0m \u001b[1;36m2884\u001b[0m\u001b[1;33m)\u001b[0m\u001b[1;33m\u001b[0m\u001b[1;33m\u001b[0m\u001b[0m\n\u001b[0;32m      6\u001b[0m \u001b[1;33m\u001b[0m\u001b[0m\n",
      "\u001b[1;32m~\\AppData\\Local\\Temp/ipykernel_23664/3449824205.py\u001b[0m in \u001b[0;36mvalue_iteration\u001b[1;34m(self, env, max_iter, eps, gamma)\u001b[0m\n\u001b[0;32m     18\u001b[0m \u001b[1;33m\u001b[0m\u001b[0m\n\u001b[0;32m     19\u001b[0m     \u001b[1;32mdef\u001b[0m \u001b[0mvalue_iteration\u001b[0m\u001b[1;33m(\u001b[0m\u001b[0mself\u001b[0m\u001b[1;33m,\u001b[0m \u001b[0menv\u001b[0m\u001b[1;33m,\u001b[0m \u001b[0mmax_iter\u001b[0m\u001b[1;33m=\u001b[0m\u001b[1;36m1000\u001b[0m\u001b[1;33m,\u001b[0m \u001b[0meps\u001b[0m\u001b[1;33m=\u001b[0m\u001b[1;36m0.01\u001b[0m\u001b[1;33m,\u001b[0m \u001b[0mgamma\u001b[0m\u001b[1;33m=\u001b[0m\u001b[1;36m1\u001b[0m\u001b[1;33m)\u001b[0m\u001b[1;33m:\u001b[0m\u001b[1;33m\u001b[0m\u001b[1;33m\u001b[0m\u001b[0m\n\u001b[1;32m---> 20\u001b[1;33m         \u001b[1;32mreturn\u001b[0m \u001b[0mv\u001b[0m\u001b[1;33m\u001b[0m\u001b[1;33m\u001b[0m\u001b[0m\n\u001b[0m",
      "\u001b[1;31mNameError\u001b[0m: name 'v' is not defined"
     ]
    }
   ],
   "source": [
    "#check the value_iteration output\n",
    "mess = Mess()\n",
    "solution = MessSolution()\n",
    "v = solution.value_iteration(mess)\n",
    "assert(int(v[('Monday', 0)]) == 2884)\n",
    "    \n",
    "    \n",
    "#check the policy evaluation output\n",
    "mess = Mess()\n",
    "solution = MessSolution()\n",
    "policy = solution.example_policy(mess.state_space)\n",
    "v = solution.iterative_policy_evaluation(mess, policy)\n",
    "assert(int(v[('Monday', 0)]) == 1775)"
   ]
  },
  {
   "cell_type": "code",
   "execution_count": null,
   "id": "688b29e8",
   "metadata": {},
   "outputs": [],
   "source": []
  }
 ],
 "metadata": {
  "kernelspec": {
   "display_name": "Python 3 (ipykernel)",
   "language": "python",
   "name": "python3"
  },
  "language_info": {
   "codemirror_mode": {
    "name": "ipython",
    "version": 3
   },
   "file_extension": ".py",
   "mimetype": "text/x-python",
   "name": "python",
   "nbconvert_exporter": "python",
   "pygments_lexer": "ipython3",
   "version": "3.9.7"
  }
 },
 "nbformat": 4,
 "nbformat_minor": 5
}
