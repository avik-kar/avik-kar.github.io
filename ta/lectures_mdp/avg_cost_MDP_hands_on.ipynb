{
 "cells": [
  {
   "cell_type": "code",
   "execution_count": 1,
   "id": "f5115ff9",
   "metadata": {},
   "outputs": [],
   "source": [
    "import numpy as np\n",
    "import matplotlib.pyplot as plt"
   ]
  },
  {
   "cell_type": "code",
   "execution_count": 2,
   "id": "b40110de",
   "metadata": {},
   "outputs": [],
   "source": [
    "class MDP():\n",
    "    def __init__(self, n_s, n_a):\n",
    "        self.n_a = n_a\n",
    "        self.n_s = n_s\n",
    "        self.p = self.trasition_prob_matrix()\n",
    "        self.r = self.reward_distribution(0,1)\n",
    "        self.state_space = np.arange(n_s)\n",
    "        self.action_space = np.arange(n_a)\n",
    "        self.state = None\n",
    "       \n",
    "    def trasition_prob_matrix(self):\n",
    "        k = 4\n",
    "        pts = np.random.uniform(1,1000,(self.n_s,self.n_a,k))\n",
    "        tpm = np.zeros((self.n_s,self.n_a,self.n_s))\n",
    "        t = np.arange(0,1,1/self.n_s)\n",
    "        for s in range(self.n_s):\n",
    "            for a in range(self.n_a):\n",
    "                tpm[s,a] = np.array([sum([pts[s,a,pt]*np.exp(-(k*x - (pt+0.5))**2)\n",
    "                                           for pt in range(k)]) for x in t])\n",
    "                tpm[s,a] /= sum(tpm[s,a])\n",
    "                tpm[s,a] = np.clip(tpm[s,a], 0.001, 1)\n",
    "                tpm[s,a] /= sum(tpm[s,a])\n",
    "        return tpm\n",
    "    \n",
    "    def reward_distribution(self, r_min, r_max):\n",
    "        return np.random.uniform(r_min, r_max, size=(self.n_s, self.n_a))\n",
    "   \n",
    "    def reset(self):\n",
    "        self.state = np.random.randint(self.n_s)\n",
    "        return self.state\n",
    "        \n",
    "    def step(self, action):\n",
    "        s = self.state\n",
    "        self.state = np.random.choice(self.state_space,p=self.p[s,action])\n",
    "        self.reward = self.r[s]#, self.state]\n",
    "        return self.state, self.reward\n",
    "    \n",
    "    def sample_action(self):\n",
    "        return np.random.randint(n_a)"
   ]
  },
  {
   "cell_type": "code",
   "execution_count": 3,
   "id": "4f0406eb",
   "metadata": {},
   "outputs": [],
   "source": [
    "n_s = 10\n",
    "n_a = 8\n",
    "M = MDP(n_s, n_a)"
   ]
  },
  {
   "cell_type": "code",
   "execution_count": 4,
   "id": "2999922e",
   "metadata": {},
   "outputs": [],
   "source": [
    "def value_iteration(MDP):\n",
    "    H = np.zeros(MDP.n_s)\n",
    "    V = np.zeros(MDP.n_s)\n",
    "    \n",
    "    policy = np.zeros((MDP.n_s)).astype(np.int32)\n",
    "    k = 0\n",
    "    while True:\n",
    "        H_old = H.copy()\n",
    "        for s in range(MDP.n_s):\n",
    "            Q = {}\n",
    "            for a in range(MDP.n_a):\n",
    "                Q[a] = MDP.r[s,a] + sum(MDP.p[s,a,s_nxt]*H_old[s_nxt] for s_nxt in range(MDP.n_s))\n",
    "            V[s] = max(Q.values())\n",
    "            H[s] = V[s] - V[k]\n",
    "            policy[s] = max(Q, key=Q.get)\n",
    "        if all(abs(H.reshape(-1) - H_old.reshape(-1)) < 1e-10):\n",
    "            break\n",
    "    return policy, V[k]"
   ]
  },
  {
   "cell_type": "code",
   "execution_count": 5,
   "id": "ba8fac01",
   "metadata": {},
   "outputs": [],
   "source": [
    "policy, value = value_iteration(M)"
   ]
  },
  {
   "cell_type": "code",
   "execution_count": 6,
   "id": "269ced35",
   "metadata": {},
   "outputs": [
    {
     "name": "stdout",
     "output_type": "stream",
     "text": [
      "[4 3 2 0 5 1 7 7 3 5] 0.874112417387294\n"
     ]
    }
   ],
   "source": [
    "print(policy, value)"
   ]
  },
  {
   "cell_type": "code",
   "execution_count": 7,
   "id": "bbf0392c",
   "metadata": {},
   "outputs": [],
   "source": [
    "def policy_evaluation_iterative(MDP, policy):\n",
    "    H = np.zeros(MDP.n_s)\n",
    "    V = np.zeros(MDP.n_s)\n",
    "    k = 0\n",
    "    while True:\n",
    "        H_old = H.copy()\n",
    "        for s in range(MDP.n_s):\n",
    "            V[s] = MDP.r[s,policy[s]] + sum(MDP.p[s,policy[s],s_nxt]*H_old[s_nxt] for s_nxt in range(MDP.n_s))\n",
    "            H[s] = V[s] - V[k]\n",
    "        if all(abs(H.reshape(-1) - H_old.reshape(-1)) < 1e-10):\n",
    "            break\n",
    "    return V[k], H"
   ]
  },
  {
   "cell_type": "code",
   "execution_count": 8,
   "id": "7996cedf",
   "metadata": {},
   "outputs": [],
   "source": [
    "value, h = policy_evaluation_iterative(M, policy)"
   ]
  },
  {
   "cell_type": "code",
   "execution_count": 9,
   "id": "02f3ce22",
   "metadata": {},
   "outputs": [
    {
     "name": "stdout",
     "output_type": "stream",
     "text": [
      "0.874112417387294\n",
      "[0.         0.57424818 0.31864832 0.59085252 0.42420043 0.5770066\n",
      " 0.56172762 0.4097849  0.49208389 0.51953923]\n"
     ]
    }
   ],
   "source": [
    "print(value)\n",
    "print(h)"
   ]
  },
  {
   "cell_type": "code",
   "execution_count": 10,
   "id": "e61d4344",
   "metadata": {},
   "outputs": [],
   "source": [
    "def policy_iteration(MDP):\n",
    "    pol = np.random.randint(MDP.n_a, size=MDP.n_s)\n",
    "    V, H = policy_evaluation_iterative(MDP, pol)\n",
    "    while True:\n",
    "        V_old = V.copy()\n",
    "        H_old = H.copy()\n",
    "        for s in range(MDP.n_s):\n",
    "            Q = {}\n",
    "            for a in range(MDP.n_a):\n",
    "                Q[a] = MDP.r[s,a] + sum(MDP.p[s,a,s_nxt]*H[s_nxt] for s_nxt in range(MDP.n_s))\n",
    "            pol[s] = max(Q, key=Q.get)\n",
    "        V, H = policy_evaluation_iterative(MDP, pol)\n",
    "        if V == V_old and all(abs(H.reshape(-1) - H.reshape(-1)) == 0):\n",
    "            break\n",
    "    return policy, V"
   ]
  },
  {
   "cell_type": "code",
   "execution_count": 11,
   "id": "48fca487",
   "metadata": {},
   "outputs": [],
   "source": [
    "policy, value = policy_iteration(M)"
   ]
  },
  {
   "cell_type": "code",
   "execution_count": 12,
   "id": "7265526c",
   "metadata": {},
   "outputs": [
    {
     "name": "stdout",
     "output_type": "stream",
     "text": [
      "[4 3 2 0 5 1 7 7 3 5] 0.874112417387294\n"
     ]
    }
   ],
   "source": [
    "print(policy, value)"
   ]
  },
  {
   "cell_type": "code",
   "execution_count": null,
   "id": "c2f3c7b0",
   "metadata": {},
   "outputs": [],
   "source": []
  }
 ],
 "metadata": {
  "kernelspec": {
   "display_name": "Python 3 (ipykernel)",
   "language": "python",
   "name": "python3"
  },
  "language_info": {
   "codemirror_mode": {
    "name": "ipython",
    "version": 3
   },
   "file_extension": ".py",
   "mimetype": "text/x-python",
   "name": "python",
   "nbconvert_exporter": "python",
   "pygments_lexer": "ipython3",
   "version": "3.9.7"
  }
 },
 "nbformat": 4,
 "nbformat_minor": 5
}
